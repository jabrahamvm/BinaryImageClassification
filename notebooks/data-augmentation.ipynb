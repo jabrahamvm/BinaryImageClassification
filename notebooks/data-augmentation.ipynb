{
 "cells": [
  {
   "cell_type": "markdown",
   "metadata": {},
   "source": [
    "# Loading libraries"
   ]
  },
  {
   "cell_type": "code",
   "execution_count": null,
   "metadata": {},
   "outputs": [],
   "source": [
    "from numpy import expand_dims\n",
    "from keras.preprocessing.image import load_img\n",
    "from keras.preprocessing.image import ImageDataGenerator\n",
    "from keras.preprocessing.image import img_to_array\n",
    "from matplotlib import pyplot as plt\n",
    "import os\n",
    "import cv2\n",
    "import shutil"
   ]
  },
  {
   "cell_type": "code",
   "execution_count": null,
   "metadata": {},
   "outputs": [],
   "source": [
    "# Ruta que contiene los datos de entrenamiento\n",
    "data_path = \"C:/Users/abrah/Documents/Repos/RPatrones/ClasificaImagenes/data/Limpieza02\"\n",
    "# Nombre de la pieza\n",
    "name = \"TRIMM\"\n",
    "folder = \"NG_trimm\"\n",
    "augmented_folder = \"NG_Augmented\"\n",
    "main_path = f\"{data_path}/{folder}/\"\n",
    "print(len(os.listdir(main_path)))"
   ]
  },
  {
   "cell_type": "code",
   "execution_count": null,
   "metadata": {},
   "outputs": [],
   "source": [
    "import glob\n",
    "path = f\"C:/Users/abrah/Documents/Repos/RPatrones/ClasificaImagenes/data/Limpieza02/{folder}/*.jpg\"\n",
    "image_paths = glob.glob(path)"
   ]
  },
  {
   "cell_type": "code",
   "execution_count": null,
   "metadata": {},
   "outputs": [],
   "source": [
    "img = load_img(image_paths[0])\n",
    "plt.imshow(img)"
   ]
  },
  {
   "cell_type": "markdown",
   "metadata": {},
   "source": [
    "# Creamos nuevas imagenes alterando el brillo de las imagenes originales."
   ]
  },
  {
   "cell_type": "code",
   "execution_count": null,
   "metadata": {},
   "outputs": [],
   "source": [
    "brightness_folder = \"TRIMM_BRIGHTNESS\"\n",
    "brightness_path = f\"{main_path}/{augmented_folder}/{brightness_folder}/\"\n",
    "\n",
    "if not os.path.exists(brightness_path):\n",
    "    os.mkdir(brightness_path)\n",
    "\n",
    "j = 0\n",
    "\n",
    "for filename in image_paths:\n",
    "    m = 0\n",
    "    j = j + 1\n",
    "    img = load_img(filename)\n",
    "    data = img_to_array(img)\n",
    "    samples = expand_dims(data,0)\n",
    "    datagen =ImageDataGenerator(brightness_range=[0.8,1.4])\n",
    "    it = datagen.flow(samples,batch_size=1)\n",
    "    # Generamos 3 imagenes de 1.\n",
    "    for _ in range(3):\n",
    "        m = m + 1\n",
    "        batch = it.next()\n",
    "        image = batch[0].astype('uint8')\n",
    "        image = cv2.cvtColor(image, cv2.COLOR_RGB2GRAY)\n",
    "        cv2.imwrite(os.path.join(brightness_path, f\"brightness{j}_{m}.jpg\"),image)"
   ]
  },
  {
   "cell_type": "markdown",
   "metadata": {},
   "source": [
    "# Generamos nuevas imagenes rotando horizontalmente las imagenes originales"
   ]
  },
  {
   "cell_type": "code",
   "execution_count": null,
   "metadata": {},
   "outputs": [],
   "source": [
    "height_shift_folder = \"TRIMM_HEIGHT_SHIFT\"\n",
    "height_shift_path = f\"{main_path}/{augmented_folder}/{height_shift_folder}/\"\n",
    "\n",
    "j = 0\n",
    "\n",
    "for filename in image_paths:\n",
    "    j = j + 1\n",
    "    m = 0\n",
    "    img = load_img(filename)\n",
    "    data = img_to_array(img)\n",
    "    samples = expand_dims(data,0)\n",
    "    datagen =ImageDataGenerator(height_shift_range=[-10,10])\n",
    "    it = datagen.flow(samples,batch_size=1)\n",
    "    for _ in range(3):\n",
    "        m = m + 1\n",
    "        batch = it.next()\n",
    "        image = batch[0].astype('uint8')\n",
    "        image = cv2.cvtColor(image, cv2.COLOR_RGB2BGR)\n",
    "        cv2.imwrite(os.path.join(height_shift_path, f\"height{j}_{m}.jpg\"),image)"
   ]
  },
  {
   "cell_type": "markdown",
   "metadata": {},
   "source": [
    "# Generamos nuevas imagenes aplicando un zoom aleatorio a las imagenes originales."
   ]
  },
  {
   "cell_type": "code",
   "execution_count": null,
   "metadata": {},
   "outputs": [],
   "source": [
    "zoom_folder = \"TRIMM_ZOOM\"\n",
    "zoom_path = f\"{main_path}/{augmented_folder}/{zoom_folder}/\"\n",
    "\n",
    "j = 0\n",
    "\n",
    "for filename in image_paths:\n",
    "    j = j + 1\n",
    "    m = 0\n",
    "    img = load_img(filename)\n",
    "    data = img_to_array(img)\n",
    "    samples = expand_dims(data,0)\n",
    "    datagen =ImageDataGenerator(zoom_range=0.05, fill_mode='constant')\n",
    "    it = datagen.flow(samples,batch_size=1)\n",
    "    for _ in range(3):\n",
    "        m = m + 1\n",
    "        batch = it.next()\n",
    "        image = batch[0].astype('uint8')\n",
    "        image = cv2.cvtColor(image, cv2.COLOR_RGB2GRAY)\n",
    "        cv2.imwrite(os.path.join(zoom_path, f\"zoom{j}_{m}.jpg\"),image)"
   ]
  },
  {
   "cell_type": "markdown",
   "metadata": {},
   "source": [
    "# Generamos nuevas imagenes aplicando rotación a las imagenes originales."
   ]
  },
  {
   "cell_type": "code",
   "execution_count": null,
   "metadata": {},
   "outputs": [],
   "source": [
    "rotation_folder = \"TRIMM_ROTATION\"\n",
    "rotation_path = f\"{main_path}/{augmented_folder}/{rotation_folder}/\"\n",
    "\n",
    "j = 0\n",
    "\n",
    "for filename in image_paths:\n",
    "    j = j + 1\n",
    "    m = 0\n",
    "    img = load_img(filename)\n",
    "    data = img_to_array(img)\n",
    "    samples = expand_dims(data,0)\n",
    "    datagen =ImageDataGenerator(rotation_range=1, fill_mode='constant')\n",
    "    it = datagen.flow(samples,batch_size=1)\n",
    "    for _ in range(3):\n",
    "        m = m + 1\n",
    "        batch = it.next()\n",
    "        image = batch[0].astype('uint8')\n",
    "        image = cv2.cvtColor(image, cv2.COLOR_RGB2GRAY)\n",
    "        cv2.imwrite(os.path.join(rotation_path, f\"rotation{j}_{m}.jpg\"),image)"
   ]
  },
  {
   "cell_type": "markdown",
   "metadata": {},
   "source": [
    "# Generamos nuevas imagenes rotando verticalmente las imagenes originales"
   ]
  },
  {
   "cell_type": "code",
   "execution_count": null,
   "metadata": {},
   "outputs": [],
   "source": [
    "width_shift_folder = \"TRIMM_WIDTH_SHIFT\"\n",
    "width_shift_path = f\"{main_path}/{augmented_folder}/{width_shift_folder}/\"\n",
    "\n",
    "j = 0\n",
    "\n",
    "for filename in image_paths:\n",
    "    j = j + 1\n",
    "    m = 0\n",
    "    img = load_img(filename)\n",
    "    data = img_to_array(img)\n",
    "    samples = expand_dims(data,0)\n",
    "    datagen =ImageDataGenerator(width_shift_range=[-10,10])\n",
    "    it = datagen.flow(samples,batch_size=1)\n",
    "    for _ in range(3):\n",
    "        m = m + 1\n",
    "        batch = it.next()\n",
    "        image = batch[0].astype('uint8')\n",
    "        image = cv2.cvtColor(image, cv2.COLOR_RGB2GRAY)\n",
    "        cv2.imwrite(os.path.join(width_shift_path, f\"width{j}_{m}.jpg\"),image)"
   ]
  },
  {
   "cell_type": "markdown",
   "metadata": {},
   "source": [
    "# Copiamos las imagenes generadas en un solo folder"
   ]
  },
  {
   "cell_type": "code",
   "execution_count": null,
   "metadata": {},
   "outputs": [],
   "source": [
    "augmented_folder_list = [\n",
    "    rotation_path,\n",
    "    width_shift_path,\n",
    "    brightness_path,\n",
    "    height_shift_path\n",
    "]\n",
    "\n",
    "dest_name = \"Augmented\"\n",
    "dest_folder = f\"{main_path}/{augmented_folder}/{dest_name}\"\n",
    "\n",
    "for augmented_folder in augmented_folder_list:\n",
    "    images = os.listdir(augmented_folder)\n",
    "    for img in images:\n",
    "        shutil.copy(os.path.join(augmented_folder,img), dest_folder)"
   ]
  },
  {
   "cell_type": "markdown",
   "metadata": {},
   "source": [
    "# Rename every image and put it on one final folder"
   ]
  },
  {
   "cell_type": "code",
   "execution_count": null,
   "metadata": {},
   "outputs": [],
   "source": [
    "folder = \"Generated_OK\"\n",
    "path_save = f\"{data_path}/{folder}/\"\n",
    "os.getcwd()\n",
    "collection = path_save\n",
    "for i, filename in enumerate(os.listdir(collection)):\n",
    "    os.rename(path_save + filename, path_save + str(i+0) + '.jpg')"
   ]
  }
 ],
 "metadata": {
  "interpreter": {
   "hash": "bb6e9f8732d952f850bd4070f64980e6f6165b20af0799e5c2c38efe8635471e"
  },
  "kernelspec": {
   "display_name": "Python 3.9.12 ('patrones-env')",
   "language": "python",
   "name": "python3"
  },
  "language_info": {
   "codemirror_mode": {
    "name": "ipython",
    "version": 3
   },
   "file_extension": ".py",
   "mimetype": "text/x-python",
   "name": "python",
   "nbconvert_exporter": "python",
   "pygments_lexer": "ipython3",
   "version": "3.9.12"
  },
  "orig_nbformat": 4
 },
 "nbformat": 4,
 "nbformat_minor": 2
}
