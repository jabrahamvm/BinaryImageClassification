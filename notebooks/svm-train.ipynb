{
 "cells": [
  {
   "cell_type": "markdown",
   "metadata": {},
   "source": [
    "## Importing the necessary libraries"
   ]
  },
  {
   "cell_type": "code",
   "execution_count": null,
   "metadata": {},
   "outputs": [],
   "source": [
    "import os\n",
    "import mlflow\n",
    "import pandas as pd\n",
    "import numpy as np\n",
    "from matplotlib import pyplot as plt\n",
    "from skimage import color\n",
    "from skimage.transform import resize\n",
    "from skimage.io import imread\n",
    "from sklearn import svm\n",
    "from sklearn.model_selection import GridSearchCV, train_test_split\n",
    "from sklearn.decomposition import PCA"
   ]
  },
  {
   "cell_type": "code",
   "execution_count": null,
   "metadata": {},
   "outputs": [],
   "source": [
    "# Setting mlfow experiment\n",
    "mlflow.set_experiment('SVM')"
   ]
  },
  {
   "cell_type": "markdown",
   "metadata": {},
   "source": [
    "## Loading the data\n",
    "After cleaning the data and applying data augmentation, we load the image data into a pandas DataFrame"
   ]
  },
  {
   "cell_type": "code",
   "execution_count": null,
   "metadata": {},
   "outputs": [],
   "source": [
    "categories = ['NG', 'OK']\n",
    "# Arreglo que contendra las imagenes en una 1D\n",
    "flat_images = []\n",
    "# Arreglo que contendra la categoria de la imagen i.\n",
    "target_array = []\n",
    "# Path que contiene las carpetas NG y OK\n",
    "data_path = 'C:/Users/abrah/Documents/Repos/RPatrones/ClasificaImagenes/data/Limpieza01/Final'"
   ]
  },
  {
   "cell_type": "code",
   "execution_count": null,
   "metadata": {},
   "outputs": [],
   "source": [
    "for i in categories:\n",
    "    print(f'Loading... category: {i}')\n",
    "    path = os.path.join(data_path,i)\n",
    "    \n",
    "    for img in os.listdir(path):\n",
    "        img_array = imread(os.path.join(path, img))\n",
    "        img_resized = resize(img_array,(256,256,1))\n",
    "        flat_images.append(img_resized.flatten())\n",
    "        target_array.append(categories.index(i))"
   ]
  },
  {
   "cell_type": "code",
   "execution_count": null,
   "metadata": {},
   "outputs": [],
   "source": [
    "df = pd.DataFrame(np.array(flat_images))\n",
    "df['labels'] = np.array(target_array)\n",
    "print(len(flat_images))\n",
    "print(len(target_array))"
   ]
  },
  {
   "cell_type": "code",
   "execution_count": null,
   "metadata": {},
   "outputs": [],
   "source": [
    "print(df.head())\n",
    "print(f'Columns of the data frame: {df.columns}')"
   ]
  },
  {
   "cell_type": "markdown",
   "metadata": {},
   "source": [
    "## Principal Component Analysis (PCA)\n",
    "\"PCA is a linear dimensionality reduction technique (algorithm) that transform a set of correlated variables (p) into a smaller k ($k < p$) number of uncorrelated variables called **principal components** while keeping as much of the variability in the original data as possible.\"\n",
    "### Why do we use it?\n",
    "We use PCA for **image compression**, a technique that minimizes the size in byts of an image while keeping as much of the quality of the image as possible. Reducing the number of components in an image will help us train a little faster.\n",
    "#### Source:\n",
    "Rukshan Pramoditha: https://towardsdatascience.com/image-compression-using-principal-component-analysis-pca-253f26740a9f\n"
   ]
  },
  {
   "cell_type": "code",
   "execution_count": null,
   "metadata": {},
   "outputs": [],
   "source": [
    "# Create a copy of the pandas dataframe that contains our data\n",
    "data = df.copy()\n",
    "data.drop(columns='labels',inplace=True)"
   ]
  },
  {
   "cell_type": "code",
   "execution_count": null,
   "metadata": {},
   "outputs": [],
   "source": [
    "mlflow.sklearn.autolog()"
   ]
  },
  {
   "cell_type": "code",
   "execution_count": null,
   "metadata": {},
   "outputs": [],
   "source": [
    "n_components = 171\n",
    "mlflow.log_param('PCA_n_components',str(n_components))"
   ]
  },
  {
   "cell_type": "code",
   "execution_count": null,
   "metadata": {},
   "outputs": [],
   "source": [
    "pca = PCA(n_components=n_components)"
   ]
  },
  {
   "cell_type": "code",
   "execution_count": null,
   "metadata": {},
   "outputs": [],
   "source": [
    "# Asignamos el número de componentes\n",
    "brake_pca_reduced = pca.fit_transform(data)\n",
    "brake_pca_recovered = pca.inverse_transform(brake_pca_reduced)\n",
    "image_pca_1000 = brake_pca_recovered[1,:].reshape([256,256])\n",
    "plt.imshow(image_pca_1000,cmap='gray_r')\n",
    "plt.title(f'Compressed image, label = {target_array[0]}')"
   ]
  },
  {
   "cell_type": "code",
   "execution_count": null,
   "metadata": {},
   "outputs": [],
   "source": [
    "data_reduced = pd.DataFrame(brake_pca_reduced)\n",
    "d_recov = pd.DataFrame(brake_pca_recovered)"
   ]
  },
  {
   "cell_type": "markdown",
   "metadata": {},
   "source": [
    "## Building the SVM model\n",
    "Create the SVM model and use GridSearchCV to find the best model"
   ]
  },
  {
   "cell_type": "code",
   "execution_count": null,
   "metadata": {},
   "outputs": [],
   "source": [
    "params = {\n",
    "    'C':[0.1,1,10,100],\n",
    "    'gamma':[0.0001,0.001,0.1,1],\n",
    "    'kernel':['linear','rbf']\n",
    "}"
   ]
  },
  {
   "cell_type": "code",
   "execution_count": null,
   "metadata": {},
   "outputs": [],
   "source": [
    "classifier = svm.LinearSVC()\n",
    "model = GridSearchCV(classifier,params,cv=5,verbose=1)"
   ]
  },
  {
   "cell_type": "markdown",
   "metadata": {},
   "source": [
    "#### Splitting the data"
   ]
  },
  {
   "cell_type": "code",
   "execution_count": null,
   "metadata": {},
   "outputs": [],
   "source": [
    "targets = df[['labels']]\n",
    "print(targets.shape)\n",
    "# Las caracteristicas reducidas se encuentran en data_reduced\n",
    "X_train, X_test, y_train, y_test = train_test_split(data_reduced,targets,test_size=0.2,random_state=1234,stratify=targets)"
   ]
  },
  {
   "cell_type": "markdown",
   "metadata": {},
   "source": [
    "#### Fitting the model"
   ]
  },
  {
   "cell_type": "code",
   "execution_count": null,
   "metadata": {},
   "outputs": [],
   "source": [
    "model.fit(X_train,y_train.values.ravel())"
   ]
  },
  {
   "cell_type": "markdown",
   "metadata": {},
   "source": [
    "#### Making predictions"
   ]
  },
  {
   "cell_type": "code",
   "execution_count": null,
   "metadata": {},
   "outputs": [],
   "source": [
    "y_pred = model.predict(X_test)\n",
    "print(f'The predicted data is \\n{y_pred}')\n",
    "print(f'The actual data is \\n{y_test}')"
   ]
  },
  {
   "cell_type": "code",
   "execution_count": null,
   "metadata": {},
   "outputs": [],
   "source": [
    "image_test = brake_pca_reduced[50]\n",
    "print(len(image_test))\n",
    "img_to_show = brake_pca_recovered[50]\n",
    "print(len(img_to_show))\n",
    "actual_label = target_array[50]\n",
    "img_to_show = np.reshape(img_to_show,(256,256))\n",
    "plt.imshow(img_to_show,cmap='gray_r')\n",
    "plt.title(f'Actual label = {actual_label}| predicted label = {model.predict(image_test.reshape(1, -1))}')"
   ]
  },
  {
   "cell_type": "markdown",
   "metadata": {},
   "source": [
    "#### Best Parameters"
   ]
  },
  {
   "cell_type": "code",
   "execution_count": null,
   "metadata": {},
   "outputs": [],
   "source": [
    "print(f'Best parameters found by GridSearch:\\n{model.best_params_}')\n",
    "print(f'Best score found by GridSearch:\\n{model.best_score_}')"
   ]
  },
  {
   "cell_type": "markdown",
   "metadata": {},
   "source": [
    "#### Computing classification metrics"
   ]
  },
  {
   "cell_type": "code",
   "execution_count": null,
   "metadata": {},
   "outputs": [],
   "source": [
    "from sklearn.metrics import confusion_matrix, classification_report, accuracy_score\n",
    "conf_matrix = confusion_matrix(y_test,y_pred=y_pred)\n",
    "print(conf_matrix)\n",
    "print(classification_report(y_test,y_pred))\n",
    "print(f'The accuraccy is {accuracy_score(y_test,y_pred)}')"
   ]
  },
  {
   "cell_type": "code",
   "execution_count": null,
   "metadata": {},
   "outputs": [],
   "source": [
    "ipath = 'C:/Users/abrah/Documents/Repos/RPatrones/ClasificaImagenes/data/NG_trimm/img_39_2022_05_06_151613_120.jpg'\n",
    "image_test = imread(ipath)\n",
    "img_t_resized = resize(img_array,(256,256,1))\n",
    "test = img_t_resized.flatten()\n",
    "pd_test = pd.DataFrame(np.array(test).reshape(1,-1))\n",
    "print(pd_test)\n",
    "final = pca.transform(pd_test)\n",
    "print(len(img_to_show))\n",
    "actual_label = target_array[50]\n",
    "plt.imshow(image_test,cmap='gray_r')\n",
    "plt.title(f'Actual label = {actual_label} | predicted label = {model.predict(final.reshape(1, -1))}')"
   ]
  }
 ],
 "metadata": {
  "interpreter": {
   "hash": "bb6e9f8732d952f850bd4070f64980e6f6165b20af0799e5c2c38efe8635471e"
  },
  "kernelspec": {
   "display_name": "Python 3.9.12 ('patrones-env')",
   "language": "python",
   "name": "python3"
  },
  "language_info": {
   "codemirror_mode": {
    "name": "ipython",
    "version": 3
   },
   "file_extension": ".py",
   "mimetype": "text/x-python",
   "name": "python",
   "nbconvert_exporter": "python",
   "pygments_lexer": "ipython3",
   "version": "3.9.12"
  },
  "orig_nbformat": 4
 },
 "nbformat": 4,
 "nbformat_minor": 2
}
